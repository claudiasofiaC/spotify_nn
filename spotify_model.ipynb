{
  "nbformat": 4,
  "nbformat_minor": 0,
  "metadata": {
    "colab": {
      "name": "spotify_model.ipynb",
      "provenance": [],
      "collapsed_sections": []
    },
    "kernelspec": {
      "name": "python3",
      "display_name": "Python 3"
    }
  },
  "cells": [
    {
      "cell_type": "code",
      "metadata": {
        "id": "me_K3QXurkIE",
        "colab_type": "code",
        "colab": {}
      },
      "source": [
        "in_file = \"https://raw.githubusercontent.com/claudiasofiaC/spotify_nn/master/SpotifyAudioFeaturesApril2019.csv\""
      ],
      "execution_count": 0,
      "outputs": []
    },
    {
      "cell_type": "code",
      "metadata": {
        "id": "tKcXkLuusEKm",
        "colab_type": "code",
        "colab": {
          "base_uri": "https://localhost:8080/",
          "height": 360
        },
        "outputId": "31208854-d554-418e-8eb7-1da63cbb0542"
      },
      "source": [
        "import pandas as pd\n",
        "\n",
        "df = pd.read_csv(in_file)\n",
        "\n",
        "df.head()"
      ],
      "execution_count": 2,
      "outputs": [
        {
          "output_type": "execute_result",
          "data": {
            "text/html": [
              "<div>\n",
              "<style scoped>\n",
              "    .dataframe tbody tr th:only-of-type {\n",
              "        vertical-align: middle;\n",
              "    }\n",
              "\n",
              "    .dataframe tbody tr th {\n",
              "        vertical-align: top;\n",
              "    }\n",
              "\n",
              "    .dataframe thead th {\n",
              "        text-align: right;\n",
              "    }\n",
              "</style>\n",
              "<table border=\"1\" class=\"dataframe\">\n",
              "  <thead>\n",
              "    <tr style=\"text-align: right;\">\n",
              "      <th></th>\n",
              "      <th>artist_name</th>\n",
              "      <th>track_id</th>\n",
              "      <th>track_name</th>\n",
              "      <th>acousticness</th>\n",
              "      <th>danceability</th>\n",
              "      <th>duration_ms</th>\n",
              "      <th>energy</th>\n",
              "      <th>instrumentalness</th>\n",
              "      <th>key</th>\n",
              "      <th>liveness</th>\n",
              "      <th>loudness</th>\n",
              "      <th>mode</th>\n",
              "      <th>speechiness</th>\n",
              "      <th>tempo</th>\n",
              "      <th>time_signature</th>\n",
              "      <th>valence</th>\n",
              "      <th>popularity</th>\n",
              "    </tr>\n",
              "  </thead>\n",
              "  <tbody>\n",
              "    <tr>\n",
              "      <th>0</th>\n",
              "      <td>YG</td>\n",
              "      <td>2RM4jf1Xa9zPgMGRDiht8O</td>\n",
              "      <td>Big Bank feat. 2 Chainz, Big Sean, Nicki Minaj</td>\n",
              "      <td>0.005820</td>\n",
              "      <td>0.743</td>\n",
              "      <td>238373</td>\n",
              "      <td>0.339</td>\n",
              "      <td>0.000</td>\n",
              "      <td>1</td>\n",
              "      <td>0.0812</td>\n",
              "      <td>-7.678</td>\n",
              "      <td>1</td>\n",
              "      <td>0.4090</td>\n",
              "      <td>203.927</td>\n",
              "      <td>4</td>\n",
              "      <td>0.118</td>\n",
              "      <td>15</td>\n",
              "    </tr>\n",
              "    <tr>\n",
              "      <th>1</th>\n",
              "      <td>YG</td>\n",
              "      <td>1tHDG53xJNGsItRA3vfVgs</td>\n",
              "      <td>BAND DRUM (feat. A$AP Rocky)</td>\n",
              "      <td>0.024400</td>\n",
              "      <td>0.846</td>\n",
              "      <td>214800</td>\n",
              "      <td>0.557</td>\n",
              "      <td>0.000</td>\n",
              "      <td>8</td>\n",
              "      <td>0.2860</td>\n",
              "      <td>-7.259</td>\n",
              "      <td>1</td>\n",
              "      <td>0.4570</td>\n",
              "      <td>159.009</td>\n",
              "      <td>4</td>\n",
              "      <td>0.371</td>\n",
              "      <td>0</td>\n",
              "    </tr>\n",
              "    <tr>\n",
              "      <th>2</th>\n",
              "      <td>R3HAB</td>\n",
              "      <td>6Wosx2euFPMT14UXiWudMy</td>\n",
              "      <td>Radio Silence</td>\n",
              "      <td>0.025000</td>\n",
              "      <td>0.603</td>\n",
              "      <td>138913</td>\n",
              "      <td>0.723</td>\n",
              "      <td>0.000</td>\n",
              "      <td>9</td>\n",
              "      <td>0.0824</td>\n",
              "      <td>-5.890</td>\n",
              "      <td>0</td>\n",
              "      <td>0.0454</td>\n",
              "      <td>114.966</td>\n",
              "      <td>4</td>\n",
              "      <td>0.382</td>\n",
              "      <td>56</td>\n",
              "    </tr>\n",
              "    <tr>\n",
              "      <th>3</th>\n",
              "      <td>Chris Cooq</td>\n",
              "      <td>3J2Jpw61sO7l6Hc7qdYV91</td>\n",
              "      <td>Lactose</td>\n",
              "      <td>0.029400</td>\n",
              "      <td>0.800</td>\n",
              "      <td>125381</td>\n",
              "      <td>0.579</td>\n",
              "      <td>0.912</td>\n",
              "      <td>5</td>\n",
              "      <td>0.0994</td>\n",
              "      <td>-12.118</td>\n",
              "      <td>0</td>\n",
              "      <td>0.0701</td>\n",
              "      <td>123.003</td>\n",
              "      <td>4</td>\n",
              "      <td>0.641</td>\n",
              "      <td>0</td>\n",
              "    </tr>\n",
              "    <tr>\n",
              "      <th>4</th>\n",
              "      <td>Chris Cooq</td>\n",
              "      <td>2jbYvQCyPgX3CdmAzeVeuS</td>\n",
              "      <td>Same - Original mix</td>\n",
              "      <td>0.000035</td>\n",
              "      <td>0.783</td>\n",
              "      <td>124016</td>\n",
              "      <td>0.792</td>\n",
              "      <td>0.878</td>\n",
              "      <td>7</td>\n",
              "      <td>0.0332</td>\n",
              "      <td>-10.277</td>\n",
              "      <td>1</td>\n",
              "      <td>0.0661</td>\n",
              "      <td>120.047</td>\n",
              "      <td>4</td>\n",
              "      <td>0.928</td>\n",
              "      <td>0</td>\n",
              "    </tr>\n",
              "  </tbody>\n",
              "</table>\n",
              "</div>"
            ],
            "text/plain": [
              "  artist_name                track_id  ... valence  popularity\n",
              "0          YG  2RM4jf1Xa9zPgMGRDiht8O  ...   0.118          15\n",
              "1          YG  1tHDG53xJNGsItRA3vfVgs  ...   0.371           0\n",
              "2       R3HAB  6Wosx2euFPMT14UXiWudMy  ...   0.382          56\n",
              "3  Chris Cooq  3J2Jpw61sO7l6Hc7qdYV91  ...   0.641           0\n",
              "4  Chris Cooq  2jbYvQCyPgX3CdmAzeVeuS  ...   0.928           0\n",
              "\n",
              "[5 rows x 17 columns]"
            ]
          },
          "metadata": {
            "tags": []
          },
          "execution_count": 2
        }
      ]
    },
    {
      "cell_type": "code",
      "metadata": {
        "id": "vt3WZ_IZsMdo",
        "colab_type": "code",
        "colab": {}
      },
      "source": [
        "X = df[df.columns[3:]]\n",
        "\n",
        "y = df[df.columns[:3]]\n",
        "# artist, song_id, song name\n",
        "\n",
        "drop_cols = ['duration_ms', 'key', 'mode', 'time_signature', 'popularity','tempo']\n",
        "# probably wont need these\n",
        "\n",
        "X = X.drop(columns=drop_cols)\n"
      ],
      "execution_count": 0,
      "outputs": []
    },
    {
      "cell_type": "code",
      "metadata": {
        "id": "0M9chOs7stbN",
        "colab_type": "code",
        "colab": {}
      },
      "source": [
        "from sklearn.preprocessing import MinMaxScaler"
      ],
      "execution_count": 0,
      "outputs": []
    },
    {
      "cell_type": "code",
      "metadata": {
        "id": "YDsf5Kk6tJqi",
        "colab_type": "code",
        "colab": {
          "base_uri": "https://localhost:8080/",
          "height": 224
        },
        "outputId": "d6a96d26-5bab-41dd-91f8-f660be5930d7"
      },
      "source": [
        "scaler = MinMaxScaler()\n",
        "scaler.fit_transform(X)\n",
        "\n",
        "X.head()"
      ],
      "execution_count": 14,
      "outputs": [
        {
          "output_type": "execute_result",
          "data": {
            "text/html": [
              "<div>\n",
              "<style scoped>\n",
              "    .dataframe tbody tr th:only-of-type {\n",
              "        vertical-align: middle;\n",
              "    }\n",
              "\n",
              "    .dataframe tbody tr th {\n",
              "        vertical-align: top;\n",
              "    }\n",
              "\n",
              "    .dataframe thead th {\n",
              "        text-align: right;\n",
              "    }\n",
              "</style>\n",
              "<table border=\"1\" class=\"dataframe\">\n",
              "  <thead>\n",
              "    <tr style=\"text-align: right;\">\n",
              "      <th></th>\n",
              "      <th>acousticness</th>\n",
              "      <th>danceability</th>\n",
              "      <th>energy</th>\n",
              "      <th>instrumentalness</th>\n",
              "      <th>liveness</th>\n",
              "      <th>loudness</th>\n",
              "      <th>speechiness</th>\n",
              "      <th>valence</th>\n",
              "    </tr>\n",
              "  </thead>\n",
              "  <tbody>\n",
              "    <tr>\n",
              "      <th>0</th>\n",
              "      <td>0.005820</td>\n",
              "      <td>0.743</td>\n",
              "      <td>0.339</td>\n",
              "      <td>0.000</td>\n",
              "      <td>0.0812</td>\n",
              "      <td>-7.678</td>\n",
              "      <td>0.4090</td>\n",
              "      <td>0.118</td>\n",
              "    </tr>\n",
              "    <tr>\n",
              "      <th>1</th>\n",
              "      <td>0.024400</td>\n",
              "      <td>0.846</td>\n",
              "      <td>0.557</td>\n",
              "      <td>0.000</td>\n",
              "      <td>0.2860</td>\n",
              "      <td>-7.259</td>\n",
              "      <td>0.4570</td>\n",
              "      <td>0.371</td>\n",
              "    </tr>\n",
              "    <tr>\n",
              "      <th>2</th>\n",
              "      <td>0.025000</td>\n",
              "      <td>0.603</td>\n",
              "      <td>0.723</td>\n",
              "      <td>0.000</td>\n",
              "      <td>0.0824</td>\n",
              "      <td>-5.890</td>\n",
              "      <td>0.0454</td>\n",
              "      <td>0.382</td>\n",
              "    </tr>\n",
              "    <tr>\n",
              "      <th>3</th>\n",
              "      <td>0.029400</td>\n",
              "      <td>0.800</td>\n",
              "      <td>0.579</td>\n",
              "      <td>0.912</td>\n",
              "      <td>0.0994</td>\n",
              "      <td>-12.118</td>\n",
              "      <td>0.0701</td>\n",
              "      <td>0.641</td>\n",
              "    </tr>\n",
              "    <tr>\n",
              "      <th>4</th>\n",
              "      <td>0.000035</td>\n",
              "      <td>0.783</td>\n",
              "      <td>0.792</td>\n",
              "      <td>0.878</td>\n",
              "      <td>0.0332</td>\n",
              "      <td>-10.277</td>\n",
              "      <td>0.0661</td>\n",
              "      <td>0.928</td>\n",
              "    </tr>\n",
              "  </tbody>\n",
              "</table>\n",
              "</div>"
            ],
            "text/plain": [
              "   acousticness  danceability  energy  ...  loudness  speechiness  valence\n",
              "0      0.005820         0.743   0.339  ...    -7.678       0.4090    0.118\n",
              "1      0.024400         0.846   0.557  ...    -7.259       0.4570    0.371\n",
              "2      0.025000         0.603   0.723  ...    -5.890       0.0454    0.382\n",
              "3      0.029400         0.800   0.579  ...   -12.118       0.0701    0.641\n",
              "4      0.000035         0.783   0.792  ...   -10.277       0.0661    0.928\n",
              "\n",
              "[5 rows x 8 columns]"
            ]
          },
          "metadata": {
            "tags": []
          },
          "execution_count": 14
        }
      ]
    },
    {
      "cell_type": "code",
      "metadata": {
        "id": "I9WBYviMtP8G",
        "colab_type": "code",
        "colab": {}
      },
      "source": [
        "from sklearn.neighbors import NearestNeighbors\n"
      ],
      "execution_count": 0,
      "outputs": []
    },
    {
      "cell_type": "code",
      "metadata": {
        "id": "XwLIVI-GtSXD",
        "colab_type": "code",
        "colab": {
          "base_uri": "https://localhost:8080/",
          "height": 68
        },
        "outputId": "0137a54f-a67f-47a9-b316-c79c2fc5afae"
      },
      "source": [
        "nn = NearestNeighbors(n_neighbors=10, algorithm='kd_tree')\n",
        "nn.fit(X)"
      ],
      "execution_count": 15,
      "outputs": [
        {
          "output_type": "execute_result",
          "data": {
            "text/plain": [
              "NearestNeighbors(algorithm='kd_tree', leaf_size=30, metric='minkowski',\n",
              "                 metric_params=None, n_jobs=None, n_neighbors=10, p=2,\n",
              "                 radius=1.0)"
            ]
          },
          "metadata": {
            "tags": []
          },
          "execution_count": 15
        }
      ]
    },
    {
      "cell_type": "code",
      "metadata": {
        "id": "UdvhsexdtU6H",
        "colab_type": "code",
        "colab": {
          "base_uri": "https://localhost:8080/",
          "height": 359
        },
        "outputId": "cc57d46f-6f8e-4e5b-857c-58be5c5a0690"
      },
      "source": [
        "# sample\n",
        "\n",
        "rammstein_cols = df[df.artist_name == 'Rammstein'].index\n",
        "\n",
        "recomm = nn.kneighbors([X.iloc[rammstein_cols[0]]])[1][0]\n",
        "\n",
        "y.iloc[recomm]"
      ],
      "execution_count": 10,
      "outputs": [
        {
          "output_type": "execute_result",
          "data": {
            "text/html": [
              "<div>\n",
              "<style scoped>\n",
              "    .dataframe tbody tr th:only-of-type {\n",
              "        vertical-align: middle;\n",
              "    }\n",
              "\n",
              "    .dataframe tbody tr th {\n",
              "        vertical-align: top;\n",
              "    }\n",
              "\n",
              "    .dataframe thead th {\n",
              "        text-align: right;\n",
              "    }\n",
              "</style>\n",
              "<table border=\"1\" class=\"dataframe\">\n",
              "  <thead>\n",
              "    <tr style=\"text-align: right;\">\n",
              "      <th></th>\n",
              "      <th>artist_name</th>\n",
              "      <th>track_id</th>\n",
              "      <th>track_name</th>\n",
              "    </tr>\n",
              "  </thead>\n",
              "  <tbody>\n",
              "    <tr>\n",
              "      <th>98780</th>\n",
              "      <td>Rammstein</td>\n",
              "      <td>1T8IRUJBga0JXioJZvxjBR</td>\n",
              "      <td>DEUTSCHLAND</td>\n",
              "    </tr>\n",
              "    <tr>\n",
              "      <th>54669</th>\n",
              "      <td>John B</td>\n",
              "      <td>2IO7NQ8fZnmydozfExHSHO</td>\n",
              "      <td>Unshakeable</td>\n",
              "    </tr>\n",
              "    <tr>\n",
              "      <th>61475</th>\n",
              "      <td>Peach Kelli Pop</td>\n",
              "      <td>5FxixURSpcNcrgYAG6N521</td>\n",
              "      <td>Shine</td>\n",
              "    </tr>\n",
              "    <tr>\n",
              "      <th>63805</th>\n",
              "      <td>Ennja</td>\n",
              "      <td>6ZggXa8oRe670LujkU6HUJ</td>\n",
              "      <td>Away</td>\n",
              "    </tr>\n",
              "    <tr>\n",
              "      <th>7169</th>\n",
              "      <td>Chad Valley</td>\n",
              "      <td>4f3oIUiNnVYjFroRzniri7</td>\n",
              "      <td>Impartial</td>\n",
              "    </tr>\n",
              "    <tr>\n",
              "      <th>127966</th>\n",
              "      <td>Rezz</td>\n",
              "      <td>4Js1cgSrcGiTNCEwUOFhvv</td>\n",
              "      <td>H E X</td>\n",
              "    </tr>\n",
              "    <tr>\n",
              "      <th>95911</th>\n",
              "      <td>Alok</td>\n",
              "      <td>1UTXQrmAL4oladIwc1PWSh</td>\n",
              "      <td>Metaphor</td>\n",
              "    </tr>\n",
              "    <tr>\n",
              "      <th>8298</th>\n",
              "      <td>Far Out</td>\n",
              "      <td>3P7eiyQ7M6KjNqslxAweZE</td>\n",
              "      <td>Chains</td>\n",
              "    </tr>\n",
              "    <tr>\n",
              "      <th>10444</th>\n",
              "      <td>Pianos Become The Teeth</td>\n",
              "      <td>6TnHEcogjN1iTi4I64lwcm</td>\n",
              "      <td>Charisma</td>\n",
              "    </tr>\n",
              "    <tr>\n",
              "      <th>108184</th>\n",
              "      <td>What So Not</td>\n",
              "      <td>7pauugiB3wwcacuUy8zCXI</td>\n",
              "      <td>Goh</td>\n",
              "    </tr>\n",
              "  </tbody>\n",
              "</table>\n",
              "</div>"
            ],
            "text/plain": [
              "                    artist_name                track_id   track_name\n",
              "98780                 Rammstein  1T8IRUJBga0JXioJZvxjBR  DEUTSCHLAND\n",
              "54669                    John B  2IO7NQ8fZnmydozfExHSHO  Unshakeable\n",
              "61475           Peach Kelli Pop  5FxixURSpcNcrgYAG6N521        Shine\n",
              "63805                     Ennja  6ZggXa8oRe670LujkU6HUJ         Away\n",
              "7169                Chad Valley  4f3oIUiNnVYjFroRzniri7    Impartial\n",
              "127966                     Rezz  4Js1cgSrcGiTNCEwUOFhvv        H E X\n",
              "95911                      Alok  1UTXQrmAL4oladIwc1PWSh     Metaphor\n",
              "8298                    Far Out  3P7eiyQ7M6KjNqslxAweZE       Chains\n",
              "10444   Pianos Become The Teeth  6TnHEcogjN1iTi4I64lwcm     Charisma\n",
              "108184              What So Not  7pauugiB3wwcacuUy8zCXI          Goh"
            ]
          },
          "metadata": {
            "tags": []
          },
          "execution_count": 10
        }
      ]
    },
    {
      "cell_type": "code",
      "metadata": {
        "id": "2zWO1cCztxM_",
        "colab_type": "code",
        "colab": {
          "base_uri": "https://localhost:8080/",
          "height": 359
        },
        "outputId": "08ec2c94-2d2d-4c75-88ba-23f4635f29ca"
      },
      "source": [
        "# another sample\n",
        "\n",
        "rush_list = df[df.artist_name == 'Rush'].index\n",
        "\n",
        "recomms = nn.kneighbors([X.iloc[rush_list[0]]])[1][0]\n",
        "\n",
        "y.iloc[recomms]"
      ],
      "execution_count": 17,
      "outputs": [
        {
          "output_type": "execute_result",
          "data": {
            "text/html": [
              "<div>\n",
              "<style scoped>\n",
              "    .dataframe tbody tr th:only-of-type {\n",
              "        vertical-align: middle;\n",
              "    }\n",
              "\n",
              "    .dataframe tbody tr th {\n",
              "        vertical-align: top;\n",
              "    }\n",
              "\n",
              "    .dataframe thead th {\n",
              "        text-align: right;\n",
              "    }\n",
              "</style>\n",
              "<table border=\"1\" class=\"dataframe\">\n",
              "  <thead>\n",
              "    <tr style=\"text-align: right;\">\n",
              "      <th></th>\n",
              "      <th>artist_name</th>\n",
              "      <th>track_id</th>\n",
              "      <th>track_name</th>\n",
              "    </tr>\n",
              "  </thead>\n",
              "  <tbody>\n",
              "    <tr>\n",
              "      <th>44762</th>\n",
              "      <td>Rush</td>\n",
              "      <td>40EiqsYdngKDxh6MulcmbE</td>\n",
              "      <td>Pound Town</td>\n",
              "    </tr>\n",
              "    <tr>\n",
              "      <th>75902</th>\n",
              "      <td>Siyoon</td>\n",
              "      <td>4IO7iRsmxWNlSX4RVJgxkU</td>\n",
              "      <td>You &amp; Love (feat. Kate Kim)</td>\n",
              "    </tr>\n",
              "    <tr>\n",
              "      <th>56085</th>\n",
              "      <td>Transparent Cat</td>\n",
              "      <td>6mzGKD8R0H24WvxhJezQIb</td>\n",
              "      <td>연애 끝</td>\n",
              "    </tr>\n",
              "    <tr>\n",
              "      <th>40254</th>\n",
              "      <td>Arturo Garcia</td>\n",
              "      <td>4eZWXsL7oOIGQiNMGWP65j</td>\n",
              "      <td>Olvidarte De Que Sirve</td>\n",
              "    </tr>\n",
              "    <tr>\n",
              "      <th>986</th>\n",
              "      <td>Los Cadetes De Linares</td>\n",
              "      <td>1fViX8OKuoXb28O09ePrxf</td>\n",
              "      <td>Polvo Maldito</td>\n",
              "    </tr>\n",
              "    <tr>\n",
              "      <th>83394</th>\n",
              "      <td>Arelys Henao</td>\n",
              "      <td>4YKXABtRxpE9BRL1oT0h95</td>\n",
              "      <td>Se Fué Mi Ángel</td>\n",
              "    </tr>\n",
              "    <tr>\n",
              "      <th>68656</th>\n",
              "      <td>Yang Yoseob</td>\n",
              "      <td>77nl73a7VVrJCsi2f69GOQ</td>\n",
              "      <td>It's You</td>\n",
              "    </tr>\n",
              "    <tr>\n",
              "      <th>125103</th>\n",
              "      <td>Maluma</td>\n",
              "      <td>6x5LBP3nYXVdIDoomChGr3</td>\n",
              "      <td>Marinero</td>\n",
              "    </tr>\n",
              "    <tr>\n",
              "      <th>77580</th>\n",
              "      <td>Antonio Aguilar</td>\n",
              "      <td>1woFLTsoHHnGRIH6AcKqca</td>\n",
              "      <td>La elisa</td>\n",
              "    </tr>\n",
              "    <tr>\n",
              "      <th>121524</th>\n",
              "      <td>Regulo Caro</td>\n",
              "      <td>67IVb0JYuW6Wcd66CysHzB</td>\n",
              "      <td>Morir Con Estilo</td>\n",
              "    </tr>\n",
              "  </tbody>\n",
              "</table>\n",
              "</div>"
            ],
            "text/plain": [
              "                   artist_name  ...                   track_name\n",
              "44762                     Rush  ...                   Pound Town\n",
              "75902                   Siyoon  ...  You & Love (feat. Kate Kim)\n",
              "56085          Transparent Cat  ...                         연애 끝\n",
              "40254            Arturo Garcia  ...       Olvidarte De Que Sirve\n",
              "986     Los Cadetes De Linares  ...                Polvo Maldito\n",
              "83394             Arelys Henao  ...              Se Fué Mi Ángel\n",
              "68656              Yang Yoseob  ...                     It's You\n",
              "125103                  Maluma  ...                     Marinero\n",
              "77580          Antonio Aguilar  ...                     La elisa\n",
              "121524             Regulo Caro  ...             Morir Con Estilo\n",
              "\n",
              "[10 rows x 3 columns]"
            ]
          },
          "metadata": {
            "tags": []
          },
          "execution_count": 17
        }
      ]
    },
    {
      "cell_type": "code",
      "metadata": {
        "id": "SXW-yZnm5w9X",
        "colab_type": "code",
        "colab": {}
      },
      "source": [
        ""
      ],
      "execution_count": 0,
      "outputs": []
    },
    {
      "cell_type": "code",
      "metadata": {
        "id": "zXNFmuNn50gE",
        "colab_type": "code",
        "colab": {}
      },
      "source": [
        ""
      ],
      "execution_count": 0,
      "outputs": []
    }
  ]
}